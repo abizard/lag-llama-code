{
 "cells": [
  {
   "cell_type": "code",
   "execution_count": 1,
   "metadata": {},
   "outputs": [
    {
     "name": "stderr",
     "output_type": "stream",
     "text": [
      "/tmp/ipykernel_193849/45153676.py:5: TqdmWarning: IProgress not found. Please update jupyter and ipywidgets. See https://ipywidgets.readthedocs.io/en/stable/user_install.html\n",
      "  from tqdm.autonotebook import tqdm\n",
      "/home/abizard/miniconda3/envs/finetuning/lib/python3.12/site-packages/gluonts/json.py:101: UserWarning: Using `json`-module for json-handling. Consider installing one of `orjson`, `ujson` to speed up serialization and deserialization.\n",
      "  warnings.warn(\n"
     ]
    }
   ],
   "source": [
    "from itertools import islice\n",
    "\n",
    "from matplotlib import pyplot as plt\n",
    "import matplotlib.dates as mdates\n",
    "from tqdm.autonotebook import tqdm\n",
    "\n",
    "import torch\n",
    "from gluonts.evaluation import make_evaluation_predictions, Evaluator\n",
    "from gluonts.dataset.repository.datasets import get_dataset\n",
    "\n",
    "from gluonts.dataset.pandas import PandasDataset\n",
    "import pandas as pd\n",
    "\n",
    "from lag_llama.gluon.estimator import LagLlamaEstimator"
   ]
  },
  {
   "cell_type": "code",
   "execution_count": 3,
   "metadata": {},
   "outputs": [
    {
     "name": "stderr",
     "output_type": "stream",
     "text": [
      "/tmp/ipykernel_193849/4026714438.py:1: FutureWarning: You are using `torch.load` with `weights_only=False` (the current default value), which uses the default pickle module implicitly. It is possible to construct malicious pickle data which will execute arbitrary code during unpickling (See https://github.com/pytorch/pytorch/blob/main/SECURITY.md#untrusted-models for more details). In a future release, the default value for `weights_only` will be flipped to `True`. This limits the functions that could be executed during unpickling. Arbitrary objects will no longer be allowed to be loaded via this mode unless they are explicitly allowlisted by the user via `torch.serialization.add_safe_globals`. We recommend you start setting `weights_only=True` for any use case where you don't have full control of the loaded file. Please open an issue on GitHub for any issues related to this experimental feature.\n",
      "  ckpt = torch.load(\"./lag-llama-model/lag-llama.ckpt\", map_location=\"cuda\")\n",
      "/home/abizard/miniconda3/envs/finetuning/lib/python3.12/site-packages/lightning/fabric/utilities/cloud_io.py:56: You are using `torch.load` with `weights_only=False` (the current default value), which uses the default pickle module implicitly. It is possible to construct malicious pickle data which will execute arbitrary code during unpickling (See https://github.com/pytorch/pytorch/blob/main/SECURITY.md#untrusted-models for more details). In a future release, the default value for `weights_only` will be flipped to `True`. This limits the functions that could be executed during unpickling. Arbitrary objects will no longer be allowed to be loaded via this mode unless they are explicitly allowlisted by the user via `torch.serialization.add_safe_globals`. We recommend you start setting `weights_only=True` for any use case where you don't have full control of the loaded file. Please open an issue on GitHub for any issues related to this experimental feature.\n"
     ]
    },
    {
     "name": "stdout",
     "output_type": "stream",
     "text": [
      "Layer Name: model.param_proj.proj.0.weight - Parameter Shape: torch.Size([1, 144])\n",
      "Layer Name: model.param_proj.proj.0.bias - Parameter Shape: torch.Size([1])\n",
      "Layer Name: model.param_proj.proj.1.weight - Parameter Shape: torch.Size([1, 144])\n",
      "Layer Name: model.param_proj.proj.1.bias - Parameter Shape: torch.Size([1])\n",
      "Layer Name: model.param_proj.proj.2.weight - Parameter Shape: torch.Size([1, 144])\n",
      "Layer Name: model.param_proj.proj.2.bias - Parameter Shape: torch.Size([1])\n",
      "Layer Name: model.transformer.wte.weight - Parameter Shape: torch.Size([144, 92])\n",
      "Layer Name: model.transformer.wte.bias - Parameter Shape: torch.Size([144])\n",
      "Layer Name: model.transformer.h.0.rms_1.scale - Parameter Shape: torch.Size([144])\n",
      "Layer Name: model.transformer.h.0.attn.q_proj.weight - Parameter Shape: torch.Size([144, 144])\n",
      "Layer Name: model.transformer.h.0.attn.kv_proj.weight - Parameter Shape: torch.Size([288, 144])\n",
      "Layer Name: model.transformer.h.0.attn.c_proj.weight - Parameter Shape: torch.Size([144, 144])\n",
      "Layer Name: model.transformer.h.0.rms_2.scale - Parameter Shape: torch.Size([144])\n",
      "Layer Name: model.transformer.h.0.mlp.c_fc1.weight - Parameter Shape: torch.Size([512, 144])\n",
      "Layer Name: model.transformer.h.0.mlp.c_fc2.weight - Parameter Shape: torch.Size([512, 144])\n",
      "Layer Name: model.transformer.h.0.mlp.c_proj.weight - Parameter Shape: torch.Size([144, 512])\n",
      "Layer Name: model.transformer.h.1.rms_1.scale - Parameter Shape: torch.Size([144])\n",
      "Layer Name: model.transformer.h.1.attn.q_proj.weight - Parameter Shape: torch.Size([144, 144])\n",
      "Layer Name: model.transformer.h.1.attn.kv_proj.weight - Parameter Shape: torch.Size([288, 144])\n",
      "Layer Name: model.transformer.h.1.attn.c_proj.weight - Parameter Shape: torch.Size([144, 144])\n",
      "Layer Name: model.transformer.h.1.rms_2.scale - Parameter Shape: torch.Size([144])\n",
      "Layer Name: model.transformer.h.1.mlp.c_fc1.weight - Parameter Shape: torch.Size([512, 144])\n",
      "Layer Name: model.transformer.h.1.mlp.c_fc2.weight - Parameter Shape: torch.Size([512, 144])\n",
      "Layer Name: model.transformer.h.1.mlp.c_proj.weight - Parameter Shape: torch.Size([144, 512])\n",
      "Layer Name: model.transformer.h.2.rms_1.scale - Parameter Shape: torch.Size([144])\n",
      "Layer Name: model.transformer.h.2.attn.q_proj.weight - Parameter Shape: torch.Size([144, 144])\n",
      "Layer Name: model.transformer.h.2.attn.kv_proj.weight - Parameter Shape: torch.Size([288, 144])\n",
      "Layer Name: model.transformer.h.2.attn.c_proj.weight - Parameter Shape: torch.Size([144, 144])\n",
      "Layer Name: model.transformer.h.2.rms_2.scale - Parameter Shape: torch.Size([144])\n",
      "Layer Name: model.transformer.h.2.mlp.c_fc1.weight - Parameter Shape: torch.Size([512, 144])\n",
      "Layer Name: model.transformer.h.2.mlp.c_fc2.weight - Parameter Shape: torch.Size([512, 144])\n",
      "Layer Name: model.transformer.h.2.mlp.c_proj.weight - Parameter Shape: torch.Size([144, 512])\n",
      "Layer Name: model.transformer.h.3.rms_1.scale - Parameter Shape: torch.Size([144])\n",
      "Layer Name: model.transformer.h.3.attn.q_proj.weight - Parameter Shape: torch.Size([144, 144])\n",
      "Layer Name: model.transformer.h.3.attn.kv_proj.weight - Parameter Shape: torch.Size([288, 144])\n",
      "Layer Name: model.transformer.h.3.attn.c_proj.weight - Parameter Shape: torch.Size([144, 144])\n",
      "Layer Name: model.transformer.h.3.rms_2.scale - Parameter Shape: torch.Size([144])\n",
      "Layer Name: model.transformer.h.3.mlp.c_fc1.weight - Parameter Shape: torch.Size([512, 144])\n",
      "Layer Name: model.transformer.h.3.mlp.c_fc2.weight - Parameter Shape: torch.Size([512, 144])\n",
      "Layer Name: model.transformer.h.3.mlp.c_proj.weight - Parameter Shape: torch.Size([144, 512])\n",
      "Layer Name: model.transformer.h.4.rms_1.scale - Parameter Shape: torch.Size([144])\n",
      "Layer Name: model.transformer.h.4.attn.q_proj.weight - Parameter Shape: torch.Size([144, 144])\n",
      "Layer Name: model.transformer.h.4.attn.kv_proj.weight - Parameter Shape: torch.Size([288, 144])\n",
      "Layer Name: model.transformer.h.4.attn.c_proj.weight - Parameter Shape: torch.Size([144, 144])\n",
      "Layer Name: model.transformer.h.4.rms_2.scale - Parameter Shape: torch.Size([144])\n",
      "Layer Name: model.transformer.h.4.mlp.c_fc1.weight - Parameter Shape: torch.Size([512, 144])\n",
      "Layer Name: model.transformer.h.4.mlp.c_fc2.weight - Parameter Shape: torch.Size([512, 144])\n",
      "Layer Name: model.transformer.h.4.mlp.c_proj.weight - Parameter Shape: torch.Size([144, 512])\n",
      "Layer Name: model.transformer.h.5.rms_1.scale - Parameter Shape: torch.Size([144])\n",
      "Layer Name: model.transformer.h.5.attn.q_proj.weight - Parameter Shape: torch.Size([144, 144])\n",
      "Layer Name: model.transformer.h.5.attn.kv_proj.weight - Parameter Shape: torch.Size([288, 144])\n",
      "Layer Name: model.transformer.h.5.attn.c_proj.weight - Parameter Shape: torch.Size([144, 144])\n",
      "Layer Name: model.transformer.h.5.rms_2.scale - Parameter Shape: torch.Size([144])\n",
      "Layer Name: model.transformer.h.5.mlp.c_fc1.weight - Parameter Shape: torch.Size([512, 144])\n",
      "Layer Name: model.transformer.h.5.mlp.c_fc2.weight - Parameter Shape: torch.Size([512, 144])\n",
      "Layer Name: model.transformer.h.5.mlp.c_proj.weight - Parameter Shape: torch.Size([144, 512])\n",
      "Layer Name: model.transformer.h.6.rms_1.scale - Parameter Shape: torch.Size([144])\n",
      "Layer Name: model.transformer.h.6.attn.q_proj.weight - Parameter Shape: torch.Size([144, 144])\n",
      "Layer Name: model.transformer.h.6.attn.kv_proj.weight - Parameter Shape: torch.Size([288, 144])\n",
      "Layer Name: model.transformer.h.6.attn.c_proj.weight - Parameter Shape: torch.Size([144, 144])\n",
      "Layer Name: model.transformer.h.6.rms_2.scale - Parameter Shape: torch.Size([144])\n",
      "Layer Name: model.transformer.h.6.mlp.c_fc1.weight - Parameter Shape: torch.Size([512, 144])\n",
      "Layer Name: model.transformer.h.6.mlp.c_fc2.weight - Parameter Shape: torch.Size([512, 144])\n",
      "Layer Name: model.transformer.h.6.mlp.c_proj.weight - Parameter Shape: torch.Size([144, 512])\n",
      "Layer Name: model.transformer.h.7.rms_1.scale - Parameter Shape: torch.Size([144])\n",
      "Layer Name: model.transformer.h.7.attn.q_proj.weight - Parameter Shape: torch.Size([144, 144])\n",
      "Layer Name: model.transformer.h.7.attn.kv_proj.weight - Parameter Shape: torch.Size([288, 144])\n",
      "Layer Name: model.transformer.h.7.attn.c_proj.weight - Parameter Shape: torch.Size([144, 144])\n",
      "Layer Name: model.transformer.h.7.rms_2.scale - Parameter Shape: torch.Size([144])\n",
      "Layer Name: model.transformer.h.7.mlp.c_fc1.weight - Parameter Shape: torch.Size([512, 144])\n",
      "Layer Name: model.transformer.h.7.mlp.c_fc2.weight - Parameter Shape: torch.Size([512, 144])\n",
      "Layer Name: model.transformer.h.7.mlp.c_proj.weight - Parameter Shape: torch.Size([144, 512])\n",
      "Layer Name: model.transformer.ln_f.scale - Parameter Shape: torch.Size([144])\n"
     ]
    }
   ],
   "source": [
    "ckpt = torch.load(\"./lag-llama-model/lag-llama.ckpt\", map_location=\"cuda\")\n",
    "estimator_args = ckpt[\"hyper_parameters\"][\"model_kwargs\"]\n",
    "\n",
    "estimator = LagLlamaEstimator(\n",
    "    ckpt_path=\"./lag-llama-model/lag-llama.ckpt\",\n",
    "    prediction_length=12,\n",
    "    context_length=32,\n",
    "\n",
    "    # estimator args\n",
    "    input_size=estimator_args[\"input_size\"],\n",
    "    n_layer=estimator_args[\"n_layer\"],\n",
    "    n_embd_per_head=estimator_args[\"n_embd_per_head\"],\n",
    "    n_head=estimator_args[\"n_head\"],\n",
    "    scaling=estimator_args[\"scaling\"],\n",
    "    time_feat=estimator_args[\"time_feat\"],\n",
    "\n",
    "    nonnegative_pred_samples=True,\n",
    "\n",
    "    # linear positional encoding scaling\n",
    "    rope_scaling={\n",
    "        \"type\": \"linear\",\n",
    "        \"factor\": max(1.0, (12 + 32) / estimator_args[\"context_length\"]),\n",
    "    },\n",
    "\n",
    "    batch_size=64,\n",
    "    num_parallel_samples=20,\n",
    ")\n",
    "\n",
    "lightning_module = estimator.create_lightning_module()\n",
    "transformation = estimator.create_transformation()\n",
    "predictor = estimator.create_predictor(transformation, lightning_module)\n",
    "\n",
    "for name, p in lightning_module.named_parameters():\n",
    "    print(f\"Layer Name: {name} - Parameter Shape: {p.shape}\")"
   ]
  }
 ],
 "metadata": {
  "kernelspec": {
   "display_name": "finetuning",
   "language": "python",
   "name": "python3"
  },
  "language_info": {
   "codemirror_mode": {
    "name": "ipython",
    "version": 3
   },
   "file_extension": ".py",
   "mimetype": "text/x-python",
   "name": "python",
   "nbconvert_exporter": "python",
   "pygments_lexer": "ipython3",
   "version": "3.12.4"
  }
 },
 "nbformat": 4,
 "nbformat_minor": 2
}
